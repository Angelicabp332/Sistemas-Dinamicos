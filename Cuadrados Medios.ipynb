{
 "cells": [
  {
   "cell_type": "markdown",
   "id": "080b0603",
   "metadata": {},
   "source": [
    "# Cuadrados medios\n",
    "### Maria Angelica Becerra-T00054451"
   ]
  },
  {
   "cell_type": "code",
   "execution_count": 7,
   "id": "199eed13",
   "metadata": {},
   "outputs": [
    {
     "name": "stdout",
     "output_type": "stream",
     "text": [
      "Escriba el valor raiz: 1234\n",
      "Cantidad de dígitos:  4\n",
      "0.  5227\n",
      "1.  3215\n",
      "2.  3362\n",
      "3.  3030\n",
      "4.  1809\n",
      "5.  2724\n",
      "6.  4201\n",
      "7.  6484\n",
      "8.  0422\n",
      "9.  7808\n"
     ]
    }
   ],
   "source": [
    "valor_raiz = input(\"Escriba el valor raiz: \") \n",
    "tam1 = len(valor_raiz) #tamaño de numeros del valor raiz\n",
    "print(\"Cantidad de dígitos: \", tam1) \n",
    "numero1 = int(valor_raiz) #convierte el valor raiz en entero\n",
    "for i in range(10): \n",
    "    numero2 = numero1**2\n",
    "    snumero2 = str(numero2)\n",
    "    tam2 = len(snumero2)\n",
    "    primerc = int((tam2 - tam1) / 2) #calcula cuál será el primer carácter a extraer\n",
    "    snumero3 = snumero2[primerc:primerc+tam1]\n",
    "    print (\"{}.  {}\".format(i,snumero3))\n",
    "    numero1 = int(snumero3)"
   ]
  },
  {
   "cell_type": "code",
   "execution_count": null,
   "id": "791a1159",
   "metadata": {},
   "outputs": [],
   "source": []
  }
 ],
 "metadata": {
  "kernelspec": {
   "display_name": "Python 3",
   "language": "python",
   "name": "python3"
  },
  "language_info": {
   "codemirror_mode": {
    "name": "ipython",
    "version": 3
   },
   "file_extension": ".py",
   "mimetype": "text/x-python",
   "name": "python",
   "nbconvert_exporter": "python",
   "pygments_lexer": "ipython3",
   "version": "3.8.8"
  }
 },
 "nbformat": 4,
 "nbformat_minor": 5
}
