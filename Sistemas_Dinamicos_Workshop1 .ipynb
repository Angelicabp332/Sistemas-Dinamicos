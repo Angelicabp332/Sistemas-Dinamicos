{
 "cells": [
  {
   "cell_type": "code",
   "execution_count": 2,
   "id": "44add073",
   "metadata": {},
   "outputs": [],
   "source": [
    "import matplotlib.pyplot as plt\n",
    "import seaborn as sns\n",
    "sns.set()\n",
    "import numpy as np\n",
    "from numpy.random import default_rng\n",
    "import pandas as pd"
   ]
  },
  {
   "cell_type": "code",
   "execution_count": 3,
   "id": "76b8318b",
   "metadata": {},
   "outputs": [],
   "source": [
    "def ssq(arrivals, service_times):\n",
    "  arrivals = [0.0] + arrivals\n",
    "  service_times = [0.0] + service_times\n",
    "  completion_times = [0.0]*len(service_times)\n",
    "  delays = [0.0]\n",
    "  for i in range(1, len(service_times)):\n",
    "    if arrivals[i] < completion_times[i-1]:\n",
    "      delays.append(completion_times[i-1] - arrivals[i])\n",
    "    else:\n",
    "      delays.append(0.0)\n",
    "    completion_times[i] = arrivals[i] + delays[i] + service_times[i]\n",
    "  \n",
    "  return delays[1:], completion_times[1:]"
   ]
  },
  {
   "cell_type": "code",
   "execution_count": 4,
   "id": "1ed82830",
   "metadata": {},
   "outputs": [],
   "source": [
    "rng = np.random.default_rng()\n",
    "arrivals = rng.exponential(scale=30, size=1000).tolist()\n",
    "arrivals = [5]\n",
    "service_times = [8]\n",
    "delays, completion_times = ssq(arrivals, service_times)"
   ]
  },
  {
   "cell_type": "code",
   "execution_count": 5,
   "id": "6aa9cb47",
   "metadata": {},
   "outputs": [
    {
     "data": {
      "image/png": "[encoded data removed]",
      "text/plain": [
       "<Figure size 1152x432 with 1 Axes>"
      ]
     },
     "metadata": {},
     "output_type": "display_data"
    }
   ],
   "source": [
    "def plot_delay_times(arrivals, service_times, delays):\n",
    "  df = pd.DataFrame(data={'Job':range(len(arrivals)),\n",
    "                          'Arrival Time':arrivals,\n",
    "                          'Service Time': service_times,\n",
    "                          'Delay': delays})\n",
    "  plt.figure(figsize=(16, 6))\n",
    "  ax = sns.lineplot(data=df, x=\"Job\", y=\"Delay\")\n",
    "\n",
    "plot_delay_times(arrivals, service_times, delays)"
   ]
  },
  {
   "cell_type": "code",
   "execution_count": 6,
   "id": "31f4bfd5",
   "metadata": {},
   "outputs": [
    {
     "name": "stdout",
     "output_type": "stream",
     "text": [
      "Promedio de unidad de tiempo en el sistema: 1.6666666666666667\n",
      "Tiempo promedio en unidad dentro del sistema: 0.3333333333333333\n",
      "Promedio unidad por fila de espera: 9.375\n",
      "Promedio unidad pasa por fila de espera: 1.875\n",
      "Factor del uso de sistema: 0.625\n",
      "Probabilidad de que ninguna unidad este en sistema : 0.375\n",
      "Probabilidad de que el sistema tenga exactamente “n” unidades : 0.234375\n"
     ]
    }
   ],
   "source": [
    "def compute_job_avg_statistics(arrivals, service_times):\n",
    "    \n",
    "    Unidad_prome_sist = (np.mean(arrivals))/((np.mean(service_times))-(np.mean(arrivals)))\n",
    "    Prom_time = 1/((np.mean(service_times))-(np.mean(arrivals)))\n",
    "    num_prom = ((np.mean(arrivals)**2))/(np.mean(service_times)) * ((np.mean(service_times))-(np.mean(arrivals)))\n",
    "    Tiempo_fila = (np.mean(arrivals))/(np.mean(service_times)) * ((np.mean(service_times))-(np.mean(arrivals)))\n",
    "    fac_sistema_ser = (np.mean(arrivals)) / (np.mean(service_times))\n",
    "    prob_no_sistem = 1 - (np.mean(arrivals))/(np.mean(service_times))\n",
    "    prob_unidad_n_sist = prob_no_sistem * ((fac_sistema_ser)**(len(arrivals)))\n",
    "    \n",
    "    return [Unidad_prome_sist,\n",
    "          Prom_time,\n",
    "          num_prom,\n",
    "          Tiempo_fila,\n",
    "          fac_sistema_ser,\n",
    "          prob_no_sistem,\n",
    "          prob_unidad_n_sist]\n",
    "\n",
    "job_avg_statistics = compute_job_avg_statistics(arrivals, service_times)\n",
    "                                             \n",
    "print(f'Promedio de unidad de tiempo en el sistema: {job_avg_statistics[0]}')\n",
    "print(f'Tiempo promedio en unidad dentro del sistema: {job_avg_statistics[1]}')\n",
    "print(f'Promedio unidad por fila de espera: {job_avg_statistics[2]}')\n",
    "print(f'Promedio unidad pasa por fila de espera: {job_avg_statistics[3]}')\n",
    "print(f'Factor del uso de sistema: {job_avg_statistics[4]}')\n",
    "print(f'Probabilidad de que ninguna unidad este en sistema : {job_avg_statistics[5]}')\n",
    "print(f'Probabilidad de que el sistema tenga exactamente “n” unidades : {job_avg_statistics[6]}')"
   ]
  },
  {
   "cell_type": "code",
   "execution_count": null,
   "id": "a85a1d48",
   "metadata": {},
   "outputs": [],
   "source": []
  },
  {
   "cell_type": "code",
   "execution_count": null,
   "id": "627b8f4a",
   "metadata": {},
   "outputs": [],
   "source": []
  },
  {
   "cell_type": "code",
   "execution_count": null,
   "id": "496a15bf",
   "metadata": {},
   "outputs": [],
   "source": []
  }
 ],
 "metadata": {
  "kernelspec": {
   "display_name": "Python 3",
   "language": "python",
   "name": "python3"
  },
  "language_info": {
   "codemirror_mode": {
    "name": "ipython",
    "version": 3
   },
   "file_extension": ".py",
   "mimetype": "text/x-python",
   "name": "python",
   "nbconvert_exporter": "python",
   "pygments_lexer": "ipython3",
   "version": "3.8.8"
  }
 },
 "nbformat": 4,
 "nbformat_minor": 5
}
